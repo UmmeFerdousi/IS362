{
 "cells": [
  {
   "cell_type": "code",
   "execution_count": 2,
   "metadata": {
    "scrolled": true
   },
   "outputs": [
    {
     "data": {
      "text/html": [
       "<div>\n",
       "<style scoped>\n",
       "    .dataframe tbody tr th:only-of-type {\n",
       "        vertical-align: middle;\n",
       "    }\n",
       "\n",
       "    .dataframe tbody tr th {\n",
       "        vertical-align: top;\n",
       "    }\n",
       "\n",
       "    .dataframe thead th {\n",
       "        text-align: right;\n",
       "    }\n",
       "</style>\n",
       "<table border=\"1\" class=\"dataframe\">\n",
       "  <thead>\n",
       "    <tr style=\"text-align: right;\">\n",
       "      <th></th>\n",
       "      <th>LastName</th>\n",
       "      <th>FirstName</th>\n",
       "      <th>Name</th>\n",
       "      <th>Title</th>\n",
       "    </tr>\n",
       "  </thead>\n",
       "  <tbody>\n",
       "    <tr>\n",
       "      <th>0</th>\n",
       "      <td>Almeida</td>\n",
       "      <td>Roberto</td>\n",
       "      <td>Vai Passar</td>\n",
       "      <td>Minha Historia</td>\n",
       "    </tr>\n",
       "    <tr>\n",
       "      <th>1</th>\n",
       "      <td>Almeida</td>\n",
       "      <td>Roberto</td>\n",
       "      <td>Morena De Angola</td>\n",
       "      <td>Minha Historia</td>\n",
       "    </tr>\n",
       "    <tr>\n",
       "      <th>2</th>\n",
       "      <td>Almeida</td>\n",
       "      <td>Roberto</td>\n",
       "      <td>Meu Caro Amigo</td>\n",
       "      <td>Minha Historia</td>\n",
       "    </tr>\n",
       "    <tr>\n",
       "      <th>3</th>\n",
       "      <td>Almeida</td>\n",
       "      <td>Roberto</td>\n",
       "      <td>Mateus Enter</td>\n",
       "      <td>Afrociberdelia</td>\n",
       "    </tr>\n",
       "    <tr>\n",
       "      <th>4</th>\n",
       "      <td>Almeida</td>\n",
       "      <td>Roberto</td>\n",
       "      <td>Samba Do Lado</td>\n",
       "      <td>Afrociberdelia</td>\n",
       "    </tr>\n",
       "  </tbody>\n",
       "</table>\n",
       "</div>"
      ],
      "text/plain": [
       "  LastName FirstName              Name           Title\n",
       "0  Almeida   Roberto        Vai Passar  Minha Historia\n",
       "1  Almeida   Roberto  Morena De Angola  Minha Historia\n",
       "2  Almeida   Roberto    Meu Caro Amigo  Minha Historia\n",
       "3  Almeida   Roberto      Mateus Enter  Afrociberdelia\n",
       "4  Almeida   Roberto     Samba Do Lado  Afrociberdelia"
      ]
     },
     "execution_count": 2,
     "metadata": {},
     "output_type": "execute_result"
    }
   ],
   "source": [
    "import pyodbc \n",
    "import pandas as pd\n",
    "\n",
    "conn = pyodbc.connect('Driver={SQL Server};'\n",
    "                      'Server=.;'\n",
    "                      'Database=Chinook;'\n",
    "                      'Trusted_Connection=yes;')\n",
    "\n",
    "\n",
    "sql = 'select   C.LastName,C.FirstName,T.Name,A.Title from [dbo].[InvoiceLine] IL inner join [dbo].[Invoice] I on IL.InvoiceId=I.InvoiceId inner join [dbo].[Track] T on IL.TrackId=T.TrackID inner join [dbo].[Customer] C on C.CustomerId=I.CustomerId inner join [dbo].[Album] A on A.AlbumId=T.AlbumId order by c.LastName,C.FirstName'\n",
    "\n",
    "\n",
    "data = pd.read_sql(sql,conn)\n",
    "\n",
    "\n",
    "data.head()"
   ]
  },
  {
   "cell_type": "code",
   "execution_count": null,
   "metadata": {},
   "outputs": [],
   "source": []
  }
 ],
 "metadata": {
  "kernelspec": {
   "display_name": "Python 3",
   "language": "python",
   "name": "python3"
  },
  "language_info": {
   "codemirror_mode": {
    "name": "ipython",
    "version": 3
   },
   "file_extension": ".py",
   "mimetype": "text/x-python",
   "name": "python",
   "nbconvert_exporter": "python",
   "pygments_lexer": "ipython3",
   "version": "3.7.1"
  }
 },
 "nbformat": 4,
 "nbformat_minor": 2
}
