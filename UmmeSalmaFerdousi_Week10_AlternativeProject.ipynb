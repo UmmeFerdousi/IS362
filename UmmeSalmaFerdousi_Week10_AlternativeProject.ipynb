{
 "cells": [
  {
   "cell_type": "code",
   "execution_count": 1,
   "metadata": {},
   "outputs": [],
   "source": [
    "import pandas as pd"
   ]
  },
  {
   "cell_type": "code",
   "execution_count": 5,
   "metadata": {},
   "outputs": [
    {
     "ename": "SyntaxError",
     "evalue": "(unicode error) 'unicodeescape' codec can't decode bytes in position 2-3: truncated \\UXXXXXXXX escape (<ipython-input-5-b94f20fec4e8>, line 1)",
     "output_type": "error",
     "traceback": [
      "\u001b[1;36m  File \u001b[1;32m\"<ipython-input-5-b94f20fec4e8>\"\u001b[1;36m, line \u001b[1;32m1\u001b[0m\n\u001b[1;33m    chess = pd.DataFrame(pd.read_csv('C:\\Users\\Mou\\Desktop\\School\\Spring19\\IS362\\Week10\\Submit\\CHESS_TOURNAMENT.csv'))\u001b[0m\n\u001b[1;37m                                    ^\u001b[0m\n\u001b[1;31mSyntaxError\u001b[0m\u001b[1;31m:\u001b[0m (unicode error) 'unicodeescape' codec can't decode bytes in position 2-3: truncated \\UXXXXXXXX escape\n"
     ]
    }
   ],
   "source": [
    "chess = pd.DataFrame(pd.read_csv('C:\\Users\\Mou\\Desktop\\School\\Spring19\\IS362\\Week10\\Submit\\CHESS_TOURNAMENT.csv'))"
   ]
  },
  {
   "cell_type": "code",
   "execution_count": 201,
   "metadata": {},
   "outputs": [
    {
     "data": {
      "text/html": [
       "<div>\n",
       "<style scoped>\n",
       "    .dataframe tbody tr th:only-of-type {\n",
       "        vertical-align: middle;\n",
       "    }\n",
       "\n",
       "    .dataframe tbody tr th {\n",
       "        vertical-align: top;\n",
       "    }\n",
       "\n",
       "    .dataframe thead th {\n",
       "        text-align: right;\n",
       "    }\n",
       "</style>\n",
       "<table border=\"1\" class=\"dataframe\">\n",
       "  <thead>\n",
       "    <tr style=\"text-align: right;\">\n",
       "      <th></th>\n",
       "      <th>Pair</th>\n",
       "      <th>Num</th>\n",
       "      <th>Player-Name</th>\n",
       "      <th>User-Id</th>\n",
       "      <th>Rtg</th>\n",
       "      <th>Pre-Post</th>\n",
       "      <th>Total-Pts</th>\n",
       "      <th>Round-1</th>\n",
       "      <th>Round-2</th>\n",
       "      <th>Round-3</th>\n",
       "      <th>Round-4</th>\n",
       "    </tr>\n",
       "  </thead>\n",
       "  <tbody>\n",
       "    <tr>\n",
       "      <th>0</th>\n",
       "      <td>1</td>\n",
       "      <td>ON</td>\n",
       "      <td>GARY HUA</td>\n",
       "      <td>15445895</td>\n",
       "      <td>1794</td>\n",
       "      <td>1817</td>\n",
       "      <td>6.0</td>\n",
       "      <td>W3</td>\n",
       "      <td>W5</td>\n",
       "      <td>W6</td>\n",
       "      <td>D2</td>\n",
       "    </tr>\n",
       "    <tr>\n",
       "      <th>1</th>\n",
       "      <td>2</td>\n",
       "      <td>MI</td>\n",
       "      <td>DAKSHESH DAURI</td>\n",
       "      <td>14598900</td>\n",
       "      <td>1553</td>\n",
       "      <td>1663</td>\n",
       "      <td>6.0</td>\n",
       "      <td>W4</td>\n",
       "      <td>D3</td>\n",
       "      <td>W5</td>\n",
       "      <td>D1</td>\n",
       "    </tr>\n",
       "    <tr>\n",
       "      <th>2</th>\n",
       "      <td>3</td>\n",
       "      <td>MI</td>\n",
       "      <td>ADITYA BAJAJ</td>\n",
       "      <td>14959604</td>\n",
       "      <td>1384</td>\n",
       "      <td>1640</td>\n",
       "      <td>6.0</td>\n",
       "      <td>L1</td>\n",
       "      <td>D4</td>\n",
       "      <td>W4</td>\n",
       "      <td>W6</td>\n",
       "    </tr>\n",
       "    <tr>\n",
       "      <th>3</th>\n",
       "      <td>4</td>\n",
       "      <td>MI</td>\n",
       "      <td>PATRICK H</td>\n",
       "      <td>12616049</td>\n",
       "      <td>1716</td>\n",
       "      <td>1744</td>\n",
       "      <td>5.5</td>\n",
       "      <td>L2</td>\n",
       "      <td>W6</td>\n",
       "      <td>W5</td>\n",
       "      <td>W7</td>\n",
       "    </tr>\n",
       "    <tr>\n",
       "      <th>4</th>\n",
       "      <td>5</td>\n",
       "      <td>MI</td>\n",
       "      <td>HANSHI ZUO</td>\n",
       "      <td>14601533</td>\n",
       "      <td>1655</td>\n",
       "      <td>1690</td>\n",
       "      <td>5.5</td>\n",
       "      <td>W7</td>\n",
       "      <td>L1</td>\n",
       "      <td>L2</td>\n",
       "      <td>D8</td>\n",
       "    </tr>\n",
       "  </tbody>\n",
       "</table>\n",
       "</div>"
      ],
      "text/plain": [
       "   Pair Num     Player-Name   User-Id   Rtg  Pre-Post  Total-Pts Round-1  \\\n",
       "0     1  ON        GARY HUA  15445895  1794      1817        6.0      W3   \n",
       "1     2  MI  DAKSHESH DAURI  14598900  1553      1663        6.0      W4   \n",
       "2     3  MI    ADITYA BAJAJ  14959604  1384      1640        6.0      L1   \n",
       "3     4  MI       PATRICK H  12616049  1716      1744        5.5      L2   \n",
       "4     5  MI      HANSHI ZUO  14601533  1655      1690        5.5      W7   \n",
       "\n",
       "  Round-2 Round-3 Round-4  \n",
       "0      W5      W6      D2  \n",
       "1      D3      W5      D1  \n",
       "2      D4      W4      W6  \n",
       "3      W6      W5      W7  \n",
       "4      L1      L2      D8  "
      ]
     },
     "execution_count": 201,
     "metadata": {},
     "output_type": "execute_result"
    }
   ],
   "source": [
    "chess.head()"
   ]
  },
  {
   "cell_type": "code",
   "execution_count": 194,
   "metadata": {},
   "outputs": [],
   "source": [
    "def avg_tournament_rating():\n",
    "    sum = 0 \n",
    "    for chs in chess.loc[0][7:]:\n",
    "        sum+= chess['Rtg'].loc[int(chs[1])-1]  # calculate avg number \n",
    "    return int(sum/4)  # 4 ->  Total Round \n"
   ]
  },
  {
   "cell_type": "code",
   "execution_count": 195,
   "metadata": {},
   "outputs": [],
   "source": [
    "DT = pd.DataFrame(columns=['Player Name', 'Players State', 'Total Number of Points', 'Player Pre-Rating','Avg Prev Tournament Rating'])"
   ]
  },
  {
   "cell_type": "code",
   "execution_count": 199,
   "metadata": {},
   "outputs": [],
   "source": [
    "#first player data \n",
    "DT.loc[1,'Player Name'] = chess['Player-Name'][0]\n",
    "DT.loc[1,'Players State'] = chess['Num'][0]\n",
    "DT.loc[1,'Total Number of Points'] = chess['Total-Pts'][0]\n",
    "DT.loc[1,'Player Pre-Rating'] = chess['Rtg'][0]\n",
    "DT.loc[1,'Avg Prev Tournament Rating'] = avg_tournament_rating()\n"
   ]
  },
  {
   "cell_type": "code",
   "execution_count": 200,
   "metadata": {},
   "outputs": [],
   "source": [
    "#generate csv file\n",
    "DT.to_csv(r'C:\\Users\\Sauav\\Desktop\\Umme Apu\\Week 10_Chess_Tournament\\generate_chess_player.csv', index=None, header=True)\n"
   ]
  },
  {
   "cell_type": "code",
   "execution_count": null,
   "metadata": {},
   "outputs": [],
   "source": []
  }
 ],
 "metadata": {
  "kernelspec": {
   "display_name": "Python 3",
   "language": "python",
   "name": "python3"
  },
  "language_info": {
   "codemirror_mode": {
    "name": "ipython",
    "version": 3
   },
   "file_extension": ".py",
   "mimetype": "text/x-python",
   "name": "python",
   "nbconvert_exporter": "python",
   "pygments_lexer": "ipython3",
   "version": "3.7.1"
  }
 },
 "nbformat": 4,
 "nbformat_minor": 2
}
